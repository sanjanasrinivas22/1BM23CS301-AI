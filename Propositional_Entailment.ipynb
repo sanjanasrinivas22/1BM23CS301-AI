{
  "nbformat": 4,
  "nbformat_minor": 0,
  "metadata": {
    "colab": {
      "provenance": [],
      "authorship_tag": "ABX9TyMt4GaTr6p1g5OgI/Su0cfA",
      "include_colab_link": true
    },
    "kernelspec": {
      "name": "python3",
      "display_name": "Python 3"
    },
    "language_info": {
      "name": "python"
    }
  },
  "cells": [
    {
      "cell_type": "markdown",
      "metadata": {
        "id": "view-in-github",
        "colab_type": "text"
      },
      "source": [
        "<a href=\"https://colab.research.google.com/github/sanjanasrinivas22/1BM23CS301-AI/blob/main/Propositional_Entailment.ipynb\" target=\"_parent\"><img src=\"https://colab.research.google.com/assets/colab-badge.svg\" alt=\"Open In Colab\"/></a>"
      ]
    },
    {
      "cell_type": "code",
      "source": [
        "# Propositional Logic: Truth Table Enumeration Algorithm\n",
        "# Supports full logical operators: ¬ ∧ ∨ → ↔\n",
        "print(\"Sanjana Srinivas-1BM23CS301\")\n",
        "from itertools import product\n",
        "\n",
        "# --- Utility to parse logical expressions safely ---\n",
        "def eval_formula(expr, model):\n",
        "    # Replace propositional symbols with model values\n",
        "    for sym, val in model.items():\n",
        "        expr = expr.replace(sym, str(val))\n",
        "\n",
        "    # Replace logical operators with Python equivalents\n",
        "    expr = expr.replace(\"¬\", \" not \")\n",
        "    expr = expr.replace(\"∧\", \" and \")\n",
        "    expr = expr.replace(\"∨\", \" or \")\n",
        "    expr = expr.replace(\"→\", \" <= \")   # A → B ≡ (not A) or B\n",
        "    expr = expr.replace(\"↔\", \" == \")   # A ↔ B ≡ (A == B)\n",
        "\n",
        "    return eval(expr)\n",
        "\n",
        "# --- Main program ---\n",
        "print(\"Available logical operators you can use in input formulas:\")\n",
        "print(\"  Negation (NOT):        ¬\")\n",
        "print(\"  Conjunction (AND):     ∧\")\n",
        "print(\"  Disjunction (OR):      ∨\")\n",
        "print(\"  Implication (IMPLIES): →\")\n",
        "print(\"  Biconditional (IFF):   ↔\")\n",
        "print(\"-\" * 50)\n",
        "\n",
        "symbols = input(\"Enter symbols separated by space (e.g., P Q R): \").split()\n",
        "\n",
        "kb_expr = input(\"Enter Knowledge Base formula (e.g., (P ∧ Q) → R): \")\n",
        "query_expr = input(\"Enter Query formula α (e.g., R): \")\n",
        "\n",
        "print(\"\\nKnowledge Base (KB):\", kb_expr)\n",
        "print(\"Query (α):\", query_expr, \"\\n\")\n",
        "\n",
        "# Function to print truth table\n",
        "def print_truth_table(kb_expr, query_expr, symbols):\n",
        "    header = symbols + [\"KB\", \"α\"]\n",
        "    print(\" | \".join(f\"{h:^5}\" for h in header))\n",
        "    print(\"-\" * (7 * len(header)))\n",
        "\n",
        "    for values in product([False, True], repeat=len(symbols)):\n",
        "        model = dict(zip(symbols, values))\n",
        "        kb_val = eval_formula(kb_expr, model)\n",
        "        q_val = eval_formula(query_expr, model)\n",
        "        row = [model[s] for s in symbols] + [kb_val, q_val]\n",
        "        print(\" | \".join(f\"{str(r):^5}\" for r in row))\n",
        "\n",
        "# Entailment check\n",
        "def entails(kb_expr, query_expr, symbols):\n",
        "    for values in product([True, False], repeat=len(symbols)):\n",
        "        model = dict(zip(symbols, values))\n",
        "        if eval_formula(kb_expr, model):   # KB true\n",
        "            if not eval_formula(query_expr, model):  # Query false → not entailed\n",
        "                return False\n",
        "    return True\n",
        "\n",
        "# Run\n",
        "print_truth_table(kb_expr, query_expr, symbols)\n",
        "result = entails(kb_expr, query_expr, symbols)\n",
        "print(\"\\nDoes KB entail Query (α)? :\", result)\n",
        "\n"
      ],
      "metadata": {
        "colab": {
          "base_uri": "https://localhost:8080/"
        },
        "id": "4H9B7nZ66ggI",
        "outputId": "44b48c68-ca80-467e-f0ac-6591b91dae03"
      },
      "execution_count": 6,
      "outputs": [
        {
          "output_type": "stream",
          "name": "stdout",
          "text": [
            "Sanjana Srinivas-1BM23CS301\n",
            "Available logical operators you can use in input formulas:\n",
            "  Negation (NOT):        ¬\n",
            "  Conjunction (AND):     ∧\n",
            "  Disjunction (OR):      ∨\n",
            "  Implication (IMPLIES): →\n",
            "  Biconditional (IFF):   ↔\n",
            "--------------------------------------------------\n",
            "Enter symbols separated by space (e.g., P Q R): A B C\n",
            "Enter Knowledge Base formula (e.g., (P ∧ Q) → R): (A∨C) ∧ (B∨¬C)\n",
            "Enter Query formula α (e.g., R):  A ∨ B\n",
            "\n",
            "Knowledge Base (KB): (A∨C) ∧ (B∨¬C)\n",
            "Query (α):  A ∨ B \n",
            "\n",
            "  A   |   B   |   C   |  KB   |   α  \n",
            "-----------------------------------\n",
            "False | False | False | False | False\n",
            "False | False | True  | False | False\n",
            "False | True  | False | False | True \n",
            "False | True  | True  | True  | True \n",
            "True  | False | False | True  | True \n",
            "True  | False | True  | False | True \n",
            "True  | True  | False | True  | True \n",
            "True  | True  | True  | True  | True \n",
            "\n",
            "Does KB entail Query (α)? : True\n"
          ]
        }
      ]
    }
  ]
}