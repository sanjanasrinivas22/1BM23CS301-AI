{
  "nbformat": 4,
  "nbformat_minor": 0,
  "metadata": {
    "colab": {
      "provenance": [],
      "authorship_tag": "ABX9TyOLsmxf3y409lsJd5v2HsVG",
      "include_colab_link": true
    },
    "kernelspec": {
      "name": "python3",
      "display_name": "Python 3"
    },
    "language_info": {
      "name": "python"
    }
  },
  "cells": [
    {
      "cell_type": "markdown",
      "metadata": {
        "id": "view-in-github",
        "colab_type": "text"
      },
      "source": [
        "<a href=\"https://colab.research.google.com/github/sanjanasrinivas22/1BM23CS301-AI/blob/main/Simulated_Annealing_NQueens.ipynb\" target=\"_parent\"><img src=\"https://colab.research.google.com/assets/colab-badge.svg\" alt=\"Open In Colab\"/></a>"
      ]
    },
    {
      "cell_type": "code",
      "execution_count": 2,
      "metadata": {
        "colab": {
          "base_uri": "https://localhost:8080/"
        },
        "id": "KM9etmSBOQcj",
        "outputId": "9f6a9f53-2424-47b2-e7ae-17548c911fa5"
      },
      "outputs": [
        {
          "output_type": "stream",
          "name": "stdout",
          "text": [
            "Sanjana Srinivas-1BM23CS301\n",
            "\n",
            "Best position found: [4, 0, 7, 3, 1, 6, 2, 5]\n",
            "Number of non-attacking pairs: 28\n",
            "\n",
            "Board:\n",
            ". Q . . . . . .\n",
            ". . . . Q . . .\n",
            ". . . . . . Q .\n",
            ". . . Q . . . .\n",
            "Q . . . . . . .\n",
            ". . . . . . . Q\n",
            ". . . . . Q . .\n",
            ". . Q . . . . .\n",
            "\n"
          ]
        }
      ],
      "source": [
        "print(\"Sanjana Srinivas-1BM23CS301\\n\")\n",
        "import random\n",
        "import math\n",
        "\n",
        "def cost(state):\n",
        "    \"\"\"Calculate number of attacking pairs in the state.\"\"\"\n",
        "    attacks = 0\n",
        "    n = len(state)\n",
        "    for i in range(n):\n",
        "        for j in range(i + 1, n):\n",
        "            if state[i] == state[j] or abs(state[i] - state[j]) == abs(i - j):\n",
        "                attacks += 1\n",
        "    return attacks\n",
        "\n",
        "def get_neighbor(state):\n",
        "    \"\"\"Generate a neighbor by swapping two random positions.\"\"\"\n",
        "    neighbor = state[:]\n",
        "    i, j = random.sample(range(len(state)), 2)\n",
        "    neighbor[i], neighbor[j] = neighbor[j], neighbor[i]\n",
        "    return neighbor\n",
        "\n",
        "def simulated_annealing(n=8, max_iter=10000, temp=100.0, cooling=0.95):\n",
        "    \"\"\"Perform simulated annealing to solve N-Queens.\"\"\"\n",
        "    current = list(range(n))\n",
        "    random.shuffle(current)\n",
        "    current_cost = cost(current)\n",
        "\n",
        "    temperature = temp\n",
        "    cooling_rate = cooling\n",
        "\n",
        "    best = current[:]\n",
        "    best_cost = current_cost\n",
        "\n",
        "    for _ in range(max_iter):\n",
        "        if temperature <= 0 or best_cost == 0:\n",
        "            break\n",
        "\n",
        "        neighbor = get_neighbor(current)\n",
        "        neighbor_cost = cost(neighbor)\n",
        "        delta = current_cost - neighbor_cost\n",
        "\n",
        "        if delta > 0 or random.random() < math.exp(delta / temperature):\n",
        "            current, current_cost = neighbor, neighbor_cost\n",
        "            if neighbor_cost < best_cost:\n",
        "                best, best_cost = neighbor[:], neighbor_cost\n",
        "\n",
        "        temperature *= cooling_rate\n",
        "\n",
        "    return best, best_cost\n",
        "\n",
        "def print_board(state):\n",
        "    \"\"\"Print the board in a readable format.\"\"\"\n",
        "    n = len(state)\n",
        "    for row in range(n):\n",
        "        line = \" \".join(\"Q\" if state[col] == row else \".\" for col in range(n))\n",
        "        print(line)\n",
        "    print()\n",
        "\n",
        "if __name__ == \"__main__\":\n",
        "    n = 8\n",
        "    solution, cost_val = simulated_annealing(n, max_iter=20000)\n",
        "\n",
        "    print(\"Best position found:\", solution)\n",
        "    print(f\"Number of non-attacking pairs: {n*(n-1)//2 - cost_val}\")\n",
        "    print(\"\\nBoard:\")\n",
        "    print_board(solution)\n"
      ]
    },
    {
      "cell_type": "code",
      "source": [],
      "metadata": {
        "id": "m_hPBOT0OU4v"
      },
      "execution_count": null,
      "outputs": []
    }
  ]
}