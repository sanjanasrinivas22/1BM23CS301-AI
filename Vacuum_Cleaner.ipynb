{
  "nbformat": 4,
  "nbformat_minor": 0,
  "metadata": {
    "colab": {
      "provenance": [],
      "authorship_tag": "ABX9TyOQSoMyg2BPTweoXwf4rGpI",
      "include_colab_link": true
    },
    "kernelspec": {
      "name": "python3",
      "display_name": "Python 3"
    },
    "language_info": {
      "name": "python"
    }
  },
  "cells": [
    {
      "cell_type": "markdown",
      "metadata": {
        "id": "view-in-github",
        "colab_type": "text"
      },
      "source": [
        "<a href=\"https://colab.research.google.com/github/sanjanasrinivas22/1BM23CS301-AI/blob/main/Vacuum_Cleaner.ipynb\" target=\"_parent\"><img src=\"https://colab.research.google.com/assets/colab-badge.svg\" alt=\"Open In Colab\"/></a>"
      ]
    },
    {
      "cell_type": "code",
      "source": [
        "print(\"Sanjana Srinivas-1BM23CS301\\n\")\n",
        "\n",
        "# Initial setup\n",
        "rooms = [1, 1, 1, 1]   # 1 = dirty, 0 = clean\n",
        "botpos = int(input(\"Enter Initial Position (1-4): \")) - 1\n",
        "cost = 0\n",
        "moves = 0\n",
        "\n",
        "# Function to clean current room\n",
        "def clean_room(pos):\n",
        "    global cost\n",
        "    if rooms[pos] == 1:\n",
        "        rooms[pos] = 0\n",
        "        cost += 1\n",
        "        print(f\"Cleaned room {pos+1}\")\n",
        "    else:\n",
        "        print(f\"Room {pos+1} already clean\")\n",
        "\n",
        "# Function to move bot\n",
        "def move_bot(pos, direction):\n",
        "    global moves\n",
        "    # move right if direction=1 else left\n",
        "    newpos = pos + direction\n",
        "    moves += 1\n",
        "    return newpos\n",
        "\n",
        "# Main loop\n",
        "direction = 1   # start moving right\n",
        "while 1 in rooms:   # loop until all rooms are clean\n",
        "    print(\"Rooms:\", rooms, \" Bot at:\", botpos+1)\n",
        "    clean_room(botpos)\n",
        "\n",
        "    if 1 not in rooms:\n",
        "        break\n",
        "\n",
        "    # change direction if at edges\n",
        "    if botpos == len(rooms)-1:\n",
        "        direction = -1\n",
        "    elif botpos == 0:\n",
        "        direction = 1\n",
        "\n",
        "    botpos = move_bot(botpos, direction)\n",
        "\n",
        "print(\"\\n All rooms cleaned!\")\n",
        "print(\"Cleaning Cost =\", cost)\n",
        "print(\"Total Moves =\", moves)\n"
      ],
      "metadata": {
        "colab": {
          "base_uri": "https://localhost:8080/"
        },
        "id": "oikk_p7LhVR7",
        "outputId": "bd0c72bd-cb0a-47fa-cf20-80945fb9ef9e"
      },
      "execution_count": 3,
      "outputs": [
        {
          "output_type": "stream",
          "name": "stdout",
          "text": [
            "Sanjana Srinivas-1BM23CS301\n",
            "\n",
            "Enter Initial Position (1-4): 2\n",
            "Rooms: [1, 1, 1, 1]  Bot at: 2\n",
            "Cleaned room 2\n",
            "Rooms: [1, 0, 1, 1]  Bot at: 3\n",
            "Cleaned room 3\n",
            "Rooms: [1, 0, 0, 1]  Bot at: 4\n",
            "Cleaned room 4\n",
            "Rooms: [1, 0, 0, 0]  Bot at: 3\n",
            "Room 3 already clean\n",
            "Rooms: [1, 0, 0, 0]  Bot at: 2\n",
            "Room 2 already clean\n",
            "Rooms: [1, 0, 0, 0]  Bot at: 1\n",
            "Cleaned room 1\n",
            "\n",
            " All rooms cleaned!\n",
            "Cleaning Cost = 4\n",
            "Total Moves = 5\n"
          ]
        }
      ]
    }
  ]
}