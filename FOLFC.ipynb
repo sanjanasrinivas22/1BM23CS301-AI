{
  "nbformat": 4,
  "nbformat_minor": 0,
  "metadata": {
    "colab": {
      "provenance": [],
      "authorship_tag": "ABX9TyNNT07vAr5/ZdIUrBDRcMF7",
      "include_colab_link": true
    },
    "kernelspec": {
      "name": "python3",
      "display_name": "Python 3"
    },
    "language_info": {
      "name": "python"
    }
  },
  "cells": [
    {
      "cell_type": "markdown",
      "metadata": {
        "id": "view-in-github",
        "colab_type": "text"
      },
      "source": [
        "<a href=\"https://colab.research.google.com/github/sanjanasrinivas22/1BM23CS301-AI/blob/main/FOLFC.ipynb\" target=\"_parent\"><img src=\"https://colab.research.google.com/assets/colab-badge.svg\" alt=\"Open In Colab\"/></a>"
      ]
    },
    {
      "cell_type": "code",
      "execution_count": 7,
      "metadata": {
        "colab": {
          "base_uri": "https://localhost:8080/"
        },
        "id": "gy9VCn0fKL4D",
        "outputId": "cb43fe6d-1e29-43d4-8482-b3618f4262d2"
      },
      "outputs": [
        {
          "output_type": "stream",
          "name": "stdout",
          "text": [
            "Sanjana Srinivas-1BM23CS301\n",
            "Inferred: Weapon(T1)\n",
            "Inferred: Hostile(A)\n",
            "Inferred: Sells(Robert, T1, A)\n",
            "Inferred: Criminal(Robert)\n",
            "Goal achieved: True\n"
          ]
        }
      ],
      "source": [
        "import re\n",
        "\n",
        "print(\"Sanjana Srinivas-1BM23CS301\")\n",
        "\n",
        "\n",
        "\n",
        "\n",
        "# --------------------- Pattern Matching ---------------------\n",
        "\n",
        "def match_pattern(pattern, fact):\n",
        "    \"\"\"\n",
        "    Matches a rule pattern (like Sells(p, q, r)) with a fact (like Sells(Robert, T1, A)).\n",
        "    Returns substitution dictionary if matched, else None.\n",
        "    \"\"\"\n",
        "    # Extract predicate and arguments\n",
        "    pat_pred, pat_args = re.match(r'(\\w+)\\(([^)]*)\\)', pattern).groups()\n",
        "    fact_pred, fact_args = re.match(r'(\\w+)\\(([^)]*)\\)', fact).groups()\n",
        "\n",
        "    # Predicate names must match\n",
        "    if pat_pred != fact_pred:\n",
        "        return None\n",
        "\n",
        "    pat_args = [a.strip() for a in pat_args.split(\",\")]\n",
        "    fact_args = [a.strip() for a in fact_args.split(\",\")]\n",
        "\n",
        "    if len(pat_args) != len(fact_args):\n",
        "        return None\n",
        "\n",
        "    subst = {}\n",
        "    for p_arg, f_arg in zip(pat_args, fact_args):\n",
        "        # Variables are lowercase identifiers (e.g., p, x, y)\n",
        "        if re.fullmatch(r'[a-z]\\w*', p_arg):\n",
        "            subst[p_arg] = f_arg\n",
        "        elif p_arg != f_arg:\n",
        "            return None\n",
        "    return subst\n",
        "\n",
        "\n",
        "def apply_substitution(expr, subst):\n",
        "    \"\"\"\n",
        "    Replaces all variable names in an expression using the given substitution dictionary.\n",
        "    Example: apply_substitution(\"Sells(p,q,r)\", {'p':'Robert','q':'T1','r':'A'})\n",
        "             -> \"Sells(Robert,T1,A)\"\n",
        "    \"\"\"\n",
        "    for var, val in subst.items():\n",
        "        expr = re.sub(rf'\\b{var}\\b', val, expr)\n",
        "    return expr\n",
        "\n",
        "\n",
        "# --------------------- Knowledge Base ---------------------\n",
        "\n",
        "rules = [\n",
        "    ([\"American(p)\", \"Weapon(q)\", \"Sells(p,q,r)\", \"Hostile(r)\"], \"Criminal(p)\"),\n",
        "    ([\"Missile(x)\"], \"Weapon(x)\"),\n",
        "    ([\"Enemy(x, America)\"], \"Hostile(x)\"),\n",
        "    ([\"Missile(x)\", \"Owns(A, x)\"], \"Sells(Robert, x, A)\")\n",
        "]\n",
        "\n",
        "facts = {\n",
        "    \"American(Robert)\",\n",
        "    \"Enemy(A, America)\",\n",
        "    \"Owns(A, T1)\",\n",
        "    \"Missile(T1)\"\n",
        "}\n",
        "\n",
        "goal = \"Criminal(Robert)\"\n",
        "\n",
        "\n",
        "# --------------------- Forward Chaining ---------------------\n",
        "\n",
        "def forward_chain(rules, facts, goal):\n",
        "    \"\"\"\n",
        "    Applies forward chaining to derive new facts from given rules and initial facts.\n",
        "    Returns True if goal is achieved.\n",
        "    \"\"\"\n",
        "    added = True\n",
        "    while added:\n",
        "        added = False\n",
        "        for premises, conclusion in rules:\n",
        "            possible_substs = []\n",
        "\n",
        "            # Check each premise of the rule\n",
        "            for p in premises:\n",
        "                matched = False\n",
        "                for f in facts:\n",
        "                    subst = match_pattern(p, f)\n",
        "                    if subst:\n",
        "                        possible_substs.append(subst)\n",
        "                        matched = True\n",
        "                        break\n",
        "                if not matched:\n",
        "                    break  # one premise fails → skip rule\n",
        "            else:\n",
        "                # Combine substitutions into one dictionary\n",
        "                combined = {}\n",
        "                for s in possible_substs:\n",
        "                    combined.update(s)\n",
        "\n",
        "                new_fact = apply_substitution(conclusion, combined)\n",
        "\n",
        "                if new_fact not in facts:\n",
        "                    facts.add(new_fact)\n",
        "                    print(f\"Inferred: {new_fact}\")\n",
        "                    added = True\n",
        "                    if new_fact == goal:\n",
        "                        return True\n",
        "    return goal in facts\n",
        "\n",
        "\n",
        "\n",
        "\n",
        "print(\"Goal achieved:\", forward_chain(rules, facts, goal))\n"
      ]
    }
  ]
}